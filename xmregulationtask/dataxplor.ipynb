{
 "cells": [
  {
   "cell_type": "code",
   "execution_count": 2,
   "metadata": {},
   "outputs": [],
   "source": [
    "import os\n",
    "import numpy as np\n",
    "import matplotlib.pyplot as plt\n",
    "import matplotlib"
   ]
  },
  {
   "cell_type": "markdown",
   "metadata": {},
   "source": [
    "# Expore data from regulation task"
   ]
  },
  {
   "cell_type": "code",
   "execution_count": 20,
   "metadata": {},
   "outputs": [],
   "source": [
    "current_path = os.path.abspath(os.path.curdir)\n",
    "data_folder = os.path.join(current_path, 'lifecycles_data')\n",
    "netw_folder = os.path.join(current_path, 'networks')\n",
    "\n",
    "data = np.load(os.path.join(data_folder, 'open_almost_always.npy'))\n",
    "netw = np.load(os.path.join(netw_folder, 'bestS1.npy'))\n",
    "netwg = np.load(os.path.join(netw_folder, 'bestgS1.npy'))\n",
    "\n"
   ]
  },
  {
   "cell_type": "code",
   "execution_count": 21,
   "metadata": {},
   "outputs": [
    {
     "name": "stdout",
     "output_type": "stream",
     "text": [
      "43\n",
      "55\n"
     ]
    }
   ],
   "source": [
    "print(netw.size)\n",
    "print(netwg.size)"
   ]
  },
  {
   "cell_type": "code",
   "execution_count": null,
   "metadata": {},
   "outputs": [],
   "source": [
    "t = range(len(data[0]))\n",
    "plt.subplot(211)\n",
    "plt.plot(t, data[0])\n",
    "plt.plot(data[1])\n",
    "plt.subplot(212)\n",
    "plt.plot(data[2])\n",
    "plt.plot(data[3])\n",
    "plt.plot(data[4])\n",
    "\n",
    "plt.show()"
   ]
  }
 ],
 "metadata": {
  "kernelspec": {
   "display_name": "Python 3.8.13 ('condaevo')",
   "language": "python",
   "name": "python3"
  },
  "language_info": {
   "codemirror_mode": {
    "name": "ipython",
    "version": 3
   },
   "file_extension": ".py",
   "mimetype": "text/x-python",
   "name": "python",
   "nbconvert_exporter": "python",
   "pygments_lexer": "ipython3",
   "version": "3.8.13"
  },
  "orig_nbformat": 4,
  "vscode": {
   "interpreter": {
    "hash": "fd8c7574fdc53e8e5d85ffd592653560aeb6ea081556b4278ad8baadd4c76c25"
   }
  }
 },
 "nbformat": 4,
 "nbformat_minor": 2
}
